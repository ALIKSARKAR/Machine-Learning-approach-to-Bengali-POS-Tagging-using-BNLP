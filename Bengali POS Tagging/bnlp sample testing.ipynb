{
  "nbformat": 4,
  "nbformat_minor": 0,
  "metadata": {
    "colab": {
      "name": "bnlp.ipynb",
      "provenance": [],
      "collapsed_sections": [],
      "authorship_tag": "ABX9TyPBmIBvuadD0J22iIuc3R4E",
      "include_colab_link": true
    },
    "kernelspec": {
      "name": "python3",
      "display_name": "Python 3"
    },
    "language_info": {
      "name": "python"
    }
  },
  "cells": [
    {
      "cell_type": "markdown",
      "metadata": {
        "id": "view-in-github",
        "colab_type": "text"
      },
      "source": [
        "<a href=\"https://colab.research.google.com/github/Rajspeaks/Bengali-POS-Tagging-using-BNLP/blob/main/bnlp.ipynb\" target=\"_parent\"><img src=\"https://colab.research.google.com/assets/colab-badge.svg\" alt=\"Open In Colab\"/></a>"
      ]
    },
    {
      "cell_type": "code",
      "metadata": {
        "colab": {
          "base_uri": "https://localhost:8080/"
        },
        "id": "ED0QDH9lhzwI",
        "outputId": "dd9812dc-156e-4d28-ab6f-1c6ae4d8db76"
      },
      "source": [
        "pip install bnlp_toolkit"
      ],
      "execution_count": null,
      "outputs": [
        {
          "output_type": "stream",
          "name": "stdout",
          "text": [
            "Collecting bnlp_toolkit\n",
            "  Downloading bnlp_toolkit-3.1.2-py3-none-any.whl (17 kB)\n",
            "Requirement already satisfied: scipy in /usr/local/lib/python3.7/dist-packages (from bnlp_toolkit) (1.4.1)\n",
            "Collecting sentencepiece\n",
            "  Downloading sentencepiece-0.1.96-cp37-cp37m-manylinux_2_17_x86_64.manylinux2014_x86_64.whl (1.2 MB)\n",
            "\u001b[K     |████████████████████████████████| 1.2 MB 15.1 MB/s \n",
            "\u001b[?25hRequirement already satisfied: nltk in /usr/local/lib/python3.7/dist-packages (from bnlp_toolkit) (3.2.5)\n",
            "Collecting gensim==4.0.1\n",
            "  Downloading gensim-4.0.1-cp37-cp37m-manylinux1_x86_64.whl (23.9 MB)\n",
            "\u001b[K     |████████████████████████████████| 23.9 MB 1.3 MB/s \n",
            "\u001b[?25hRequirement already satisfied: numpy in /usr/local/lib/python3.7/dist-packages (from bnlp_toolkit) (1.19.5)\n",
            "Requirement already satisfied: wasabi in /usr/local/lib/python3.7/dist-packages (from bnlp_toolkit) (0.9.0)\n",
            "Collecting sklearn-crfsuite\n",
            "  Downloading sklearn_crfsuite-0.3.6-py2.py3-none-any.whl (12 kB)\n",
            "Requirement already satisfied: smart-open>=1.8.1 in /usr/local/lib/python3.7/dist-packages (from gensim==4.0.1->bnlp_toolkit) (5.2.1)\n",
            "Requirement already satisfied: six in /usr/local/lib/python3.7/dist-packages (from nltk->bnlp_toolkit) (1.15.0)\n",
            "Requirement already satisfied: tqdm>=2.0 in /usr/local/lib/python3.7/dist-packages (from sklearn-crfsuite->bnlp_toolkit) (4.62.3)\n",
            "Collecting python-crfsuite>=0.8.3\n",
            "  Downloading python_crfsuite-0.9.7-cp37-cp37m-manylinux1_x86_64.whl (743 kB)\n",
            "\u001b[K     |████████████████████████████████| 743 kB 58.0 MB/s \n",
            "\u001b[?25hRequirement already satisfied: tabulate in /usr/local/lib/python3.7/dist-packages (from sklearn-crfsuite->bnlp_toolkit) (0.8.9)\n",
            "Installing collected packages: python-crfsuite, sklearn-crfsuite, sentencepiece, gensim, bnlp-toolkit\n",
            "  Attempting uninstall: gensim\n",
            "    Found existing installation: gensim 3.6.0\n",
            "    Uninstalling gensim-3.6.0:\n",
            "      Successfully uninstalled gensim-3.6.0\n",
            "Successfully installed bnlp-toolkit-3.1.2 gensim-4.0.1 python-crfsuite-0.9.7 sentencepiece-0.1.96 sklearn-crfsuite-0.3.6\n"
          ]
        }
      ]
    },
    {
      "cell_type": "code",
      "metadata": {
        "colab": {
          "base_uri": "https://localhost:8080/"
        },
        "id": "0snSllrXEqv0",
        "outputId": "4616e388-61e0-471d-d66a-5234918e56d3"
      },
      "source": [
        "from bnlp import BasicTokenizer\n",
        "basic_t = BasicTokenizer()\n",
        "raw_text = \"আমার নাম রাজদীপ।\"\n",
        "tokens = basic_t.tokenize(raw_text)\n",
        "print(tokens)"
      ],
      "execution_count": null,
      "outputs": [
        {
          "output_type": "stream",
          "name": "stdout",
          "text": [
            "['আমার', 'নাম', 'রাজদীপ', '।']\n"
          ]
        }
      ]
    },
    {
      "cell_type": "code",
      "metadata": {
        "colab": {
          "base_uri": "https://localhost:8080/"
        },
        "id": "3JaSkavGp45k",
        "outputId": "18e528a6-a2ee-4351-9d5a-83a9ac2a5b01"
      },
      "source": [
        "from bnlp import NLTKTokenizer\n",
        "\n",
        "bnltk = NLTKTokenizer()\n",
        "\n",
        "text = \"আমার নাম রাজদীপ। আমি যাদবপুরে থাকি। বাংলা আমার মাতৃভাষা।\"\n",
        "\n",
        "word_tokens = bnltk.word_tokenize(text)\n",
        "sentence_tokens = bnltk.sentence_tokenize(text)\n",
        "print(word_tokens)\n",
        "print(sentence_tokens)"
      ],
      "execution_count": null,
      "outputs": [
        {
          "output_type": "stream",
          "name": "stdout",
          "text": [
            "['আমার', 'নাম', 'রাজদীপ', '।', 'আমি', 'যাদবপুরে', 'থাকি', '।', 'বাংলা', 'আমার', 'মাতৃভাষা', '।']\n",
            "['আমার নাম রাজদীপ।', 'আমি যাদবপুরে থাকি।', 'বাংলা আমার মাতৃভাষা।']\n"
          ]
        }
      ]
    },
    {
      "cell_type": "code",
      "metadata": {
        "colab": {
          "base_uri": "https://localhost:8080/"
        },
        "id": "EZeQk6C6GOXp",
        "outputId": "d7fc940f-fc2d-4123-90ee-21ee2d013d6f"
      },
      "source": [
        "from bnlp import POS\n",
        "bn_pos = POS()\n",
        "model_path = \"bn_pos.pkl\"\n",
        "text = \"আমার নাম রাজদীপ।\"\n",
        "res = bn_pos.tag(model_path, text)\n",
        "print(res)"
      ],
      "execution_count": null,
      "outputs": [
        {
          "output_type": "stream",
          "name": "stdout",
          "text": [
            "[('আমার', 'PPR'), ('নাম', 'NC'), ('রাজদীপ', 'NC'), ('।', 'PU')]\n"
          ]
        }
      ]
    },
    {
      "cell_type": "code",
      "source": [
        "from bnlp import NLTKTokenizer\n",
        "\n",
        "bnltk = NLTKTokenizer()\n",
        "\n",
        "text = \"শুধু ভারত নয় , সমস্ত পৃথিবীর সশস্ত্র আন্দোলনের ইতিহাসে নেতাজী সুভাষচন্দ্র বসু এক স্মরণীয় ব্যক্তিত্ব । নেতাজী সুভাষচন্দ্র বসু যেভাবে ব্রিটিশ শক্তির বিরুদ্ধে মরণপণ সংগ্রাম করেছিলেন , তা আজও আমাদের মনে বিস্ময়ের উদ্রেক করে । আজাদ হিন্দ ফৌজের সুদক্ষ পরিচালনা থেকে শুরু করে ব্রিটিশের চোখে ধুলো দিয়ে বাড়ি থেকে পালিয়ে যাওয়া , সাবমেরিন যাত্রায় পৃথিবীর একপ্রান্ত থেকে অন্যপ্রান্তে পৌঁছে যাওয়া , বারে বারে ছদ্মবেশ ধারণ করে ব্রিটিশ পুলিশের চোখে ধুলো দেওয়া সব কাজেই নেতাজী সুভাষচন্দ্র বসু (Netaji Subhash Chandra Bose) ছিলেন অগ্রগণ্য , এমনকি মহাত্মা গান্ধির মতো এক দেশবরেণ্য নেতার বিরুদ্ধে লড়াইতে নেমে জয়যুক্ত হয়েছিলেন । একসময় ভারতের তরুণ সমাজের নয়নমণি ছিলেন নেতাজী সুভাষচন্দ্র বসু । নেতাজী সুভাষচন্দ্র বসুর জীবনের শেষ দিকটা আমরা জানি না । অনেকে বলে থাকেন , বিমান দুর্ঘটনায় তার মৃত্যু হয়েছে । অনেকে বলেন , শেষ পর্যন্ত তাকে যুদ্ধবন্দি হিসেবে ব্রিটিশরা নিয়ে গিয়েছিলেন । আবার অনেকে বলেন , নেতাজী সুভাষচন্দ্র বসু সাইবেরিয়াতে রুশদের হাতে বন্দি ছিলেন। \"\n",
        "\n",
        "word_tokens = bnltk.word_tokenize(text)\n",
        "sentence_tokens = bnltk.sentence_tokenize(text)\n",
        "print(word_tokens)\n",
        "print(sentence_tokens)"
      ],
      "metadata": {
        "colab": {
          "base_uri": "https://localhost:8080/"
        },
        "id": "pP07wPwEoyjH",
        "outputId": "95ddc1e3-b744-4861-b9dc-30f8d6b76aec"
      },
      "execution_count": null,
      "outputs": [
        {
          "output_type": "stream",
          "name": "stdout",
          "text": [
            "['শুধু', 'ভারত', 'নয়', ',', 'সমস্ত', 'পৃথিবীর', 'সশস্ত্র', 'আন্দোলনের', 'ইতিহাসে', 'নেতাজী', 'সুভাষচন্দ্র', 'বসু', 'এক', 'স্মরণীয়', 'ব্যক্তিত্ব', '।', 'নেতাজী', 'সুভাষচন্দ্র', 'বসু', 'যেভাবে', 'ব্রিটিশ', 'শক্তির', 'বিরুদ্ধে', 'মরণপণ', 'সংগ্রাম', 'করেছিলেন', ',', 'তা', 'আজও', 'আমাদের', 'মনে', 'বিস্ময়ের', 'উদ্রেক', 'করে', '।', 'আজাদ', 'হিন্দ', 'ফৌজের', 'সুদক্ষ', 'পরিচালনা', 'থেকে', 'শুরু', 'করে', 'ব্রিটিশের', 'চোখে', 'ধুলো', 'দিয়ে', 'বাড়ি', 'থেকে', 'পালিয়ে', 'যাওয়া', ',', 'সাবমেরিন', 'যাত্রায়', 'পৃথিবীর', 'একপ্রান্ত', 'থেকে', 'অন্যপ্রান্তে', 'পৌঁছে', 'যাওয়া', ',', 'বারে', 'বারে', 'ছদ্মবেশ', 'ধারণ', 'করে', 'ব্রিটিশ', 'পুলিশের', 'চোখে', 'ধুলো', 'দেওয়া', 'সব', 'কাজেই', 'নেতাজী', 'সুভাষচন্দ্র', 'বসু', '(', 'Netaji', 'Subhash', 'Chandra', 'Bose', ')', 'ছিলেন', 'অগ্রগণ্য', ',', 'এমনকি', 'মহাত্মা', 'গান্ধির', 'মতো', 'এক', 'দেশবরেণ্য', 'নেতার', 'বিরুদ্ধে', 'লড়াইতে', 'নেমে', 'জয়যুক্ত', 'হয়েছিলেন', '।', 'একসময়', 'ভারতের', 'তরুণ', 'সমাজের', 'নয়নমণি', 'ছিলেন', 'নেতাজী', 'সুভাষচন্দ্র', 'বসু', '।', 'নেতাজী', 'সুভাষচন্দ্র', 'বসুর', 'জীবনের', 'শেষ', 'দিকটা', 'আমরা', 'জানি', 'না', '।', 'অনেকে', 'বলে', 'থাকেন', ',', 'বিমান', 'দুর্ঘটনায়', 'তার', 'মৃত্যু', 'হয়েছে', '।', 'অনেকে', 'বলেন', ',', 'শেষ', 'পর্যন্ত', 'তাকে', 'যুদ্ধবন্দি', 'হিসেবে', 'ব্রিটিশরা', 'নিয়ে', 'গিয়েছিলেন', '।', 'আবার', 'অনেকে', 'বলেন', ',', 'নেতাজী', 'সুভাষচন্দ্র', 'বসু', 'সাইবেরিয়াতে', 'রুশদের', 'হাতে', 'বন্দি', 'ছিলেন', '।']\n",
            "['শুধু ভারত নয় , সমস্ত পৃথিবীর সশস্ত্র আন্দোলনের ইতিহাসে নেতাজী সুভাষচন্দ্র বসু এক স্মরণীয় ব্যক্তিত্ব ।', 'নেতাজী সুভাষচন্দ্র বসু যেভাবে ব্রিটিশ শক্তির বিরুদ্ধে মরণপণ সংগ্রাম করেছিলেন , তা আজও আমাদের মনে বিস্ময়ের উদ্রেক করে ।', 'আজাদ হিন্দ ফৌজের সুদক্ষ পরিচালনা থেকে শুরু করে ব্রিটিশের চোখে ধুলো দিয়ে বাড়ি থেকে পালিয়ে যাওয়া , সাবমেরিন যাত্রায় পৃথিবীর একপ্রান্ত থেকে অন্যপ্রান্তে পৌঁছে যাওয়া , বারে বারে ছদ্মবেশ ধারণ করে ব্রিটিশ পুলিশের চোখে ধুলো দেওয়া সব কাজেই নেতাজী সুভাষচন্দ্র বসু (Netaji Subhash Chandra Bose) ছিলেন অগ্রগণ্য , এমনকি মহাত্মা গান্ধির মতো এক দেশবরেণ্য নেতার বিরুদ্ধে লড়াইতে নেমে জয়যুক্ত হয়েছিলেন ।', 'একসময় ভারতের তরুণ সমাজের নয়নমণি ছিলেন নেতাজী সুভাষচন্দ্র বসু ।', 'নেতাজী সুভাষচন্দ্র বসুর জীবনের শেষ দিকটা আমরা জানি না ।', 'অনেকে বলে থাকেন , বিমান দুর্ঘটনায় তার মৃত্যু হয়েছে ।', 'অনেকে বলেন , শেষ পর্যন্ত তাকে যুদ্ধবন্দি হিসেবে ব্রিটিশরা নিয়ে গিয়েছিলেন ।', 'আবার অনেকে বলেন , নেতাজী সুভাষচন্দ্র বসু সাইবেরিয়াতে রুশদের হাতে বন্দি ছিলেন।']\n"
          ]
        }
      ]
    },
    {
      "cell_type": "code",
      "source": [
        "from bnlp import POS\n",
        "bn_pos = POS()\n",
        "model_path = \"bn_pos.pkl\"\n",
        "text = \"শুধু ভারত নয় , সমস্ত পৃথিবীর সশস্ত্র আন্দোলনের ইতিহাসে নেতাজী সুভাষচন্দ্র বসু এক স্মরণীয় ব্যক্তিত্ব । নেতাজী সুভাষচন্দ্র বসু যেভাবে ব্রিটিশ শক্তির বিরুদ্ধে মরণপণ সংগ্রাম করেছিলেন , তা আজও আমাদের মনে বিস্ময়ের উদ্রেক করে । আজাদ হিন্দ ফৌজের সুদক্ষ পরিচালনা থেকে শুরু করে ব্রিটিশের চোখে ধুলো দিয়ে বাড়ি থেকে পালিয়ে যাওয়া , সাবমেরিন যাত্রায় পৃথিবীর একপ্রান্ত থেকে অন্যপ্রান্তে পৌঁছে যাওয়া , বারে বারে ছদ্মবেশ ধারণ করে ব্রিটিশ পুলিশের চোখে ধুলো দেওয়া সব কাজেই নেতাজী সুভাষচন্দ্র বসু (Netaji Subhash Chandra Bose) ছিলেন অগ্রগণ্য , এমনকি মহাত্মা গান্ধির মতো এক দেশবরেণ্য নেতার বিরুদ্ধে লড়াইতে নেমে জয়যুক্ত হয়েছিলেন । একসময় ভারতের তরুণ সমাজের নয়নমণি ছিলেন নেতাজী সুভাষচন্দ্র বসু । নেতাজী সুভাষচন্দ্র বসুর জীবনের শেষ দিকটা আমরা জানি না । অনেকে বলে থাকেন , বিমান দুর্ঘটনায় তার মৃত্যু হয়েছে । অনেকে বলেন , শেষ পর্যন্ত তাকে যুদ্ধবন্দি হিসেবে ব্রিটিশরা নিয়ে গিয়েছিলেন । আবার অনেকে বলেন , নেতাজী সুভাষচন্দ্র বসু সাইবেরিয়াতে রুশদের হাতে বন্দি ছিলেন। \"\n",
        "res = bn_pos.tag(model_path, text)\n",
        "print(res)"
      ],
      "metadata": {
        "colab": {
          "base_uri": "https://localhost:8080/"
        },
        "id": "iqrACcsRnBci",
        "outputId": "0690255b-e53c-4313-e089-b856fcbfe71e"
      },
      "execution_count": null,
      "outputs": [
        {
          "output_type": "stream",
          "name": "stdout",
          "text": [
            "[('শুধু', 'AMN'), ('ভারত', 'NP'), ('নয়', 'NP'), (',', 'PU'), ('সমস্ত', 'JQ'), ('পৃথিবীর', 'NC'), ('সশস্ত্র', 'NC'), ('আন্দোলনের', 'NC'), ('ইতিহাসে', 'VM'), ('নেতাজী', 'NP'), ('সুভাষচন্দ্র', 'NP'), ('বসু', 'NP'), ('এক', 'JQ'), ('স্মরণীয়', 'JJ'), ('ব্যক্তিত্ব', 'NC'), ('।', 'NP'), ('নেতাজী', 'NP'), ('সুভাষচন্দ্র', 'NP'), ('বসু', 'NP'), ('যেভাবে', 'AMN'), ('ব্রিটিশ', 'JJ'), ('শক্তির', 'NC'), ('বিরুদ্ধে', 'PP'), ('মরণপণ', 'NC'), ('সংগ্রাম', 'NC'), ('করেছিলেন', 'VM'), (',', 'PU'), ('তা', 'PPR'), ('আজও', 'ALC'), ('আমাদের', 'PPR'), ('মনে', 'NC'), ('বিস্ময়ের', 'NC'), ('উদ্রেক', 'NC'), ('করে', 'VM'), ('।', 'NP'), ('আজাদ', 'NP'), ('হিন্দ', 'NP'), ('ফৌজের', 'NC'), ('সুদক্ষ', 'JJ'), ('পরিচালনা', 'NC'), ('থেকে', 'PP'), ('শুরু', 'NC'), ('করে', 'VM'), ('ব্রিটিশের', 'NC'), ('চোখে', 'NC'), ('ধুলো', 'NC'), ('দিয়ে', 'NC'), ('বাড়ি', 'NC'), ('থেকে', 'PP'), ('পালিয়ে', 'VM'), ('যাওয়া', 'NV'), (',', 'PU'), ('সাবমেরিন', 'NP'), ('যাত্রায়', 'NP'), ('পৃথিবীর', 'NP'), ('একপ্রান্ত', 'JQ'), ('থেকে', 'PP'), ('অন্যপ্রান্তে', 'NC'), ('পৌঁছে', 'VM'), ('যাওয়া', 'NV'), (',', 'PU'), ('বারে', 'AMN'), ('বারে', 'AMN'), ('ছদ্মবেশ', 'JQ'), ('ধারণ', 'NC'), ('করে', 'VM'), ('ব্রিটিশ', 'JJ'), ('পুলিশের', 'NC'), ('চোখে', 'NC'), ('ধুলো', 'NC'), ('দেওয়া', 'NV'), ('সব', 'JQ'), ('কাজেই', 'NC'), ('নেতাজী', 'NP'), ('সুভাষচন্দ্র', 'NP'), ('বসু', 'NP'), ('(', 'RDS'), ('Netaji', 'RDF'), ('Subhash', 'RDF'), ('Chandra', 'RDF'), ('Bose', 'RDF'), (')', 'RDS'), ('ছিলেন', 'VM'), ('অগ্রগণ্য', 'NC'), (',', 'PU'), ('এমনকি', 'CSB'), ('মহাত্মা', 'NC'), ('গান্ধির', 'NC'), ('মতো', 'CX'), ('এক', 'JQ'), ('দেশবরেণ্য', 'NC'), ('নেতার', 'NC'), ('বিরুদ্ধে', 'PP'), ('লড়াইতে', 'NC'), ('নেমে', 'VM'), ('জয়যুক্ত', 'JJ'), ('হয়েছিলেন', 'VM'), ('।', 'NP'), ('একসময়', 'NP'), ('ভারতের', 'NP'), ('তরুণ', 'JJ'), ('সমাজের', 'NC'), ('নয়নমণি', 'NC'), ('ছিলেন', 'VM'), ('নেতাজী', 'NP'), ('সুভাষচন্দ্র', 'NP'), ('বসু', 'NP'), ('।', 'NP'), ('নেতাজী', 'NP'), ('সুভাষচন্দ্র', 'NP'), ('বসুর', 'NP'), ('জীবনের', 'NC'), ('শেষ', 'NST'), ('দিকটা', 'NC'), ('আমরা', 'PPR'), ('জানি', 'VM'), ('না', 'CX'), ('।', 'NC'), ('অনেকে', 'PPR'), ('বলে', 'VM'), ('থাকেন', 'VAUX'), (',', 'PU'), ('বিমান', 'NC'), ('দুর্ঘটনায়', 'NC'), ('তার', 'PPR'), ('মৃত্যু', 'NC'), ('হয়েছে', 'VM'), ('।', 'VAUX'), ('অনেকে', 'PPR'), ('বলেন', 'VM'), (',', 'PU'), ('শেষ', 'NST'), ('পর্যন্ত', 'PP'), ('তাকে', 'PPR'), ('যুদ্ধবন্দি', 'NC'), ('হিসেবে', 'PP'), ('ব্রিটিশরা', 'NC'), ('নিয়ে', 'VM'), ('গিয়েছিলেন', 'VAUX'), ('।', 'NC'), ('আবার', 'AMN'), ('অনেকে', 'PPR'), ('বলেন', 'VM'), (',', 'PU'), ('নেতাজী', 'NP'), ('সুভাষচন্দ্র', 'NP'), ('বসু', 'NP'), ('সাইবেরিয়াতে', 'NC'), ('রুশদের', 'NC'), ('হাতে', 'NC'), ('বন্দি', 'NC'), ('ছিলেন', 'VM'), ('।', 'PU')]\n"
          ]
        }
      ]
    },
    {
      "cell_type": "code",
      "metadata": {
        "colab": {
          "base_uri": "https://localhost:8080/"
        },
        "id": "m3whVjSsMtmu",
        "outputId": "352ea719-ee64-4cdb-8fce-14749233f3e3"
      },
      "source": [
        "from bnlp import POS\n",
        "bn_pos = POS()\n",
        "model_name = \"pos_model.pkl\"\n",
        "train_data = [[('রপ্তানি', 'JJ'), ('দ্রব্য', 'NC'), ('-', 'PU'), ('তাজা', 'JJ'), ('ও', 'CCD'), ('শুকনা', 'JJ'), ('ফল', 'NC'), (',', 'PU'), ('আফিম', 'NC'), (',', 'PU'), ('পশুচর্ম', 'NC'), ('ও', 'CCD'), ('পশম', 'NC'), ('এবং', 'CCD'),('কার্পেট', 'NC'), ('৷', 'PU')], [('মাটি', 'NC'), ('থেকে', 'PP'), ('বড়জোর', 'JQ'), ('চার', 'JQ'), ('পাঁচ', 'JQ'), ('ফুট', 'CCL'), ('উঁচু', 'JJ'), ('হবে', 'VM'), ('৷', 'PU')]]\n",
        "test_data = [[('রপ্তানি', 'JJ'), ('দ্রব্য', 'NC'), ('-', 'PU'), ('তাজা', 'JJ'), ('ও', 'CCD'), ('শুকনা', 'JJ'), ('ফল', 'NC'), (',', 'PU'), ('আফিম', 'NC'), (',', 'PU'), ('পশুচর্ম', 'NC'), ('ও', 'CCD'), ('পশম', 'NC'), ('এবং', 'CCD'),('কার্পেট', 'NC'), ('৷', 'PU')], [('মাটি', 'NC'), ('থেকে', 'PP'), ('বড়জোর', 'JQ'), ('চার', 'JQ'), ('পাঁচ', 'JQ'), ('ফুট', 'CCL'), ('উঁচু', 'JJ'), ('হবে', 'VM'), ('৷', 'PU')]]\n",
        "\n",
        "bn_pos.train(model_name, train_data, test_data)"
      ],
      "execution_count": null,
      "outputs": [
        {
          "output_type": "stream",
          "name": "stdout",
          "text": [
            "2\n",
            "2\n",
            "Training Started........\n",
            "it will take time according to your dataset size..\n",
            "Training Finished!\n",
            "Evaluating with Test Data...\n",
            "Accuracy is: \n",
            "1.0\n",
            "F1 Score(micro) is: \n",
            "1.0\n",
            "Model Saved!\n"
          ]
        }
      ]
    }
  ]
}
