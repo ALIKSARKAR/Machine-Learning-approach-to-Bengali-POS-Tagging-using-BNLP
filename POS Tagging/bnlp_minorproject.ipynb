{
  "nbformat": 4,
  "nbformat_minor": 0,
  "metadata": {
    "colab": {
      "name": "bnlp_minorproject.ipynb",
      "provenance": [],
      "authorship_tag": "ABX9TyMzgsu1MB+4raJwHNLZLU5u",
      "include_colab_link": true
    },
    "kernelspec": {
      "name": "python3",
      "display_name": "Python 3"
    },
    "language_info": {
      "name": "python"
    }
  },
  "cells": [
    {
      "cell_type": "markdown",
      "metadata": {
        "id": "view-in-github",
        "colab_type": "text"
      },
      "source": [
        "<a href=\"https://colab.research.google.com/github/Rajspeaks/Bengali-POS-Tagging-using-BNLP/blob/main/POS%20Tagging/bnlp_minorproject.ipynb\" target=\"_parent\"><img src=\"https://colab.research.google.com/assets/colab-badge.svg\" alt=\"Open In Colab\"/></a>"
      ]
    },
    {
      "cell_type": "code",
      "execution_count": 1,
      "metadata": {
        "colab": {
          "base_uri": "https://localhost:8080/"
        },
        "id": "NrJpZedp6bhf",
        "outputId": "ca5cff00-fbbb-4014-8f9a-a319d411a66f"
      },
      "outputs": [
        {
          "output_type": "stream",
          "name": "stdout",
          "text": [
            "Collecting bnlp_toolkit\n",
            "  Downloading bnlp_toolkit-3.1.2-py3-none-any.whl (17 kB)\n",
            "Collecting gensim==4.0.1\n",
            "  Downloading gensim-4.0.1-cp37-cp37m-manylinux1_x86_64.whl (23.9 MB)\n",
            "\u001b[K     |████████████████████████████████| 23.9 MB 1.5 MB/s \n",
            "\u001b[?25hRequirement already satisfied: nltk in /usr/local/lib/python3.7/dist-packages (from bnlp_toolkit) (3.2.5)\n",
            "Collecting sentencepiece\n",
            "  Downloading sentencepiece-0.1.96-cp37-cp37m-manylinux_2_17_x86_64.manylinux2014_x86_64.whl (1.2 MB)\n",
            "\u001b[K     |████████████████████████████████| 1.2 MB 60.9 MB/s \n",
            "\u001b[?25hRequirement already satisfied: scipy in /usr/local/lib/python3.7/dist-packages (from bnlp_toolkit) (1.4.1)\n",
            "Requirement already satisfied: wasabi in /usr/local/lib/python3.7/dist-packages (from bnlp_toolkit) (0.9.0)\n",
            "Requirement already satisfied: numpy in /usr/local/lib/python3.7/dist-packages (from bnlp_toolkit) (1.21.5)\n",
            "Collecting sklearn-crfsuite\n",
            "  Downloading sklearn_crfsuite-0.3.6-py2.py3-none-any.whl (12 kB)\n",
            "Requirement already satisfied: smart-open>=1.8.1 in /usr/local/lib/python3.7/dist-packages (from gensim==4.0.1->bnlp_toolkit) (5.2.1)\n",
            "Requirement already satisfied: six in /usr/local/lib/python3.7/dist-packages (from nltk->bnlp_toolkit) (1.15.0)\n",
            "Requirement already satisfied: tqdm>=2.0 in /usr/local/lib/python3.7/dist-packages (from sklearn-crfsuite->bnlp_toolkit) (4.63.0)\n",
            "Collecting python-crfsuite>=0.8.3\n",
            "  Downloading python_crfsuite-0.9.7-cp37-cp37m-manylinux1_x86_64.whl (743 kB)\n",
            "\u001b[K     |████████████████████████████████| 743 kB 44.8 MB/s \n",
            "\u001b[?25hRequirement already satisfied: tabulate in /usr/local/lib/python3.7/dist-packages (from sklearn-crfsuite->bnlp_toolkit) (0.8.9)\n",
            "Installing collected packages: python-crfsuite, sklearn-crfsuite, sentencepiece, gensim, bnlp-toolkit\n",
            "  Attempting uninstall: gensim\n",
            "    Found existing installation: gensim 3.6.0\n",
            "    Uninstalling gensim-3.6.0:\n",
            "      Successfully uninstalled gensim-3.6.0\n",
            "Successfully installed bnlp-toolkit-3.1.2 gensim-4.0.1 python-crfsuite-0.9.7 sentencepiece-0.1.96 sklearn-crfsuite-0.3.6\n"
          ]
        }
      ],
      "source": [
        "pip install bnlp_toolkit"
      ]
    },
    {
      "cell_type": "code",
      "source": [
        "from bnlp import BasicTokenizer\n",
        "basic_t = BasicTokenizer()\n",
        "raw_text = \"বাংলা সাহিত্যের নবজাগরণের পথিকৃৎ-কর্মী বঙ্কিমচন্দ্র চট্টোপাধ্যায়। বঙ্কিমচন্দ্রের জন্ম ১৮৩৮ সালের ২৬ শে জুন, অধুনা চব্বিশ পরগণা জেলার অন্তর্গত নৈহাটির কাঁঠালপাড়া গ্রামে। বাবা যাদবচন্দ্র চট্টোপাধ্যায় ছিলেন মেদিনীপুরের কলেক্টর। নিয়মমাফিক পড়াশোনা শুরু বাবার কর্মস্থল মেদিনীপুর জেলার এক ইংরেজি স্কুলে। পরে কাঁঠালপাড়ায় ফিরে হুগলি কলেজে। ১৮৫৬ সালে বঙ্কিমচন্দ্র আইন পড়বার জন্য প্রেসিডেন্সি কলেজে ভর্তি হন এবং ১৮৫৭তে সেখান থেকে প্রথম বিভাগে এন্ট্রান্স পরীক্ষা পাশ করেন। ১৮৫৮ সালে সদ্য প্রতিষ্ঠিত কোলকাতা বিশ্ববিদ্যালয়ের প্রথম বি.এ.পরীক্ষায় বঙ্কিমচন্দ্র দ্বিতীয় বিভাগে প্রথম স্থান অধিকার করেন। আইন পড়া শেষ হওয়ার আগেই যশোরের ডেপুটি ম্যাজিস্ট্রেট ও ডেপুটি কলেক্টরের চাকরি পান।\"\n",
        "tokens = basic_t.tokenize(raw_text)\n",
        "print(tokens)\n"
      ],
      "metadata": {
        "colab": {
          "base_uri": "https://localhost:8080/"
        },
        "id": "11fjGOrQ7tvB",
        "outputId": "1d08f799-5539-492f-85ed-cb204dc0fe2e"
      },
      "execution_count": 4,
      "outputs": [
        {
          "output_type": "stream",
          "name": "stdout",
          "text": [
            "['বাংলা', 'সাহিত্যের', 'নবজাগরণের', 'পথিকৃৎ', '-', 'কর্মী', 'বঙ্কিমচন্দ্র', 'চট্টোপাধ্যায়', '।', 'বঙ্কিমচন্দ্রের', 'জন্ম', '১৮৩৮', 'সালের', '২৬', 'শে', 'জুন', ',', 'অধুনা', 'চব্বিশ', 'পরগণা', 'জেলার', 'অন্তর্গত', 'নৈহাটির', 'কাঁঠালপাড়া', 'গ্রামে', '।', 'বাবা', 'যাদবচন্দ্র', 'চট্টোপাধ্যায়', 'ছিলেন', 'মেদিনীপুরের', 'কলেক্টর', '।', 'নিয়মমাফিক', 'পড়াশোনা', 'শুরু', 'বাবার', 'কর্মস্থল', 'মেদিনীপুর', 'জেলার', 'এক', 'ইংরেজি', 'স্কুলে', '।', 'পরে', 'কাঁঠালপাড়ায়', 'ফিরে', 'হুগলি', 'কলেজে', '।', '১৮৫৬', 'সালে', 'বঙ্কিমচন্দ্র', 'আইন', 'পড়বার', 'জন্য', 'প্রেসিডেন্সি', 'কলেজে', 'ভর্তি', 'হন', 'এবং', '১৮৫৭তে', 'সেখান', 'থেকে', 'প্রথম', 'বিভাগে', 'এন্ট্রান্স', 'পরীক্ষা', 'পাশ', 'করেন', '।', '১৮৫৮', 'সালে', 'সদ্য', 'প্রতিষ্ঠিত', 'কোলকাতা', 'বিশ্ববিদ্যালয়ের', 'প্রথম', 'বি', '.', 'এ', '.', 'পরীক্ষায়', 'বঙ্কিমচন্দ্র', 'দ্বিতীয়', 'বিভাগে', 'প্রথম', 'স্থান', 'অধিকার', 'করেন', '।', 'আইন', 'পড়া', 'শেষ', 'হওয়ার', 'আগেই', 'যশোরের', 'ডেপুটি', 'ম্যাজিস্ট্রেট', 'ও', 'ডেপুটি', 'কলেক্টরের', 'চাকরি', 'পান', '।']\n"
          ]
        }
      ]
    }
  ]
}