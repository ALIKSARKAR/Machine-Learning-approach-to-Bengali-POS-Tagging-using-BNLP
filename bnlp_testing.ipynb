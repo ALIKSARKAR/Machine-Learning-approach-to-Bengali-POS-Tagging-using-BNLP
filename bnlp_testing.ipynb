{
 "cells": [
  {
   "cell_type": "code",
   "execution_count": 3,
   "metadata": {
    "colab": {
     "base_uri": "https://localhost:8080/"
    },
    "id": "TRM_Fz2dwKlw",
    "outputId": "87aa33d6-f734-44d4-9a8b-c234c6965cc2"
   },
   "outputs": [],
   "source": [
    "import unittest\n",
    "from bnlp import POS\n",
    "from bnlp import NER\n",
    "from bnlp import NLTKTokenizer\n",
    "from bnlp import BasicTokenizer\n",
    "from bnlp import SentencepieceTokenizer\n",
    "from bnlp import BengaliWord2Vec\n",
    "from bnlp.corpus import stopwords"
   ]
  },
  {
   "cell_type": "code",
   "execution_count": 1,
   "metadata": {
    "colab": {
     "base_uri": "https://localhost:8080/"
    },
    "id": "U2TbvC1uwjrX",
    "outputId": "66a18151-5b25-430f-feda-b9ef7a9bf326"
   },
   "outputs": [
    {
     "name": "stdout",
     "output_type": "stream",
     "text": [
      "Requirement already satisfied: bnlp_toolkit in c:\\users\\home\\appdata\\local\\programs\\python\\python38\\lib\\site-packages (3.1.2)\n",
      "Requirement already satisfied: sentencepiece in c:\\users\\home\\appdata\\local\\programs\\python\\python38\\lib\\site-packages (from bnlp_toolkit) (0.1.96)\n",
      "Requirement already satisfied: numpy in c:\\users\\home\\appdata\\local\\programs\\python\\python38\\lib\\site-packages (from bnlp_toolkit) (1.21.4)\n",
      "Requirement already satisfied: wasabi in c:\\users\\home\\appdata\\local\\programs\\python\\python38\\lib\\site-packages (from bnlp_toolkit) (0.8.2)\n",
      "Requirement already satisfied: sklearn-crfsuite in c:\\users\\home\\appdata\\local\\programs\\python\\python38\\lib\\site-packages (from bnlp_toolkit) (0.3.6)\n",
      "Requirement already satisfied: nltk in c:\\users\\home\\appdata\\local\\programs\\python\\python38\\lib\\site-packages (from bnlp_toolkit) (3.6.5)\n",
      "Requirement already satisfied: scipy in c:\\users\\home\\appdata\\local\\programs\\python\\python38\\lib\\site-packages (from bnlp_toolkit) (1.7.3)\n",
      "Requirement already satisfied: gensim==4.0.1 in c:\\users\\home\\appdata\\local\\programs\\python\\python38\\lib\\site-packages (from bnlp_toolkit) (4.0.1)\n",
      "Requirement already satisfied: smart-open>=1.8.1 in c:\\users\\home\\appdata\\local\\programs\\python\\python38\\lib\\site-packages (from gensim==4.0.1->bnlp_toolkit) (5.2.1)\n",
      "Requirement already satisfied: Cython==0.29.21 in c:\\users\\home\\appdata\\local\\programs\\python\\python38\\lib\\site-packages (from gensim==4.0.1->bnlp_toolkit) (0.29.21)\n",
      "Requirement already satisfied: tqdm in c:\\users\\home\\appdata\\local\\programs\\python\\python38\\lib\\site-packages (from nltk->bnlp_toolkit) (4.62.3)\n",
      "Requirement already satisfied: regex>=2021.8.3 in c:\\users\\home\\appdata\\local\\programs\\python\\python38\\lib\\site-packages (from nltk->bnlp_toolkit) (2021.11.10)\n",
      "Requirement already satisfied: click in c:\\users\\home\\appdata\\local\\programs\\python\\python38\\lib\\site-packages (from nltk->bnlp_toolkit) (8.0.3)\n",
      "Requirement already satisfied: joblib in c:\\users\\home\\appdata\\local\\programs\\python\\python38\\lib\\site-packages (from nltk->bnlp_toolkit) (1.1.0)\n",
      "Requirement already satisfied: colorama in c:\\users\\home\\appdata\\local\\programs\\python\\python38\\lib\\site-packages (from click->nltk->bnlp_toolkit) (0.4.4)\n",
      "Requirement already satisfied: python-crfsuite>=0.8.3 in c:\\users\\home\\appdata\\local\\programs\\python\\python38\\lib\\site-packages (from sklearn-crfsuite->bnlp_toolkit) (0.9.7)\n",
      "Requirement already satisfied: six in c:\\users\\home\\appdata\\local\\programs\\python\\python38\\lib\\site-packages (from sklearn-crfsuite->bnlp_toolkit) (1.16.0)\n",
      "Requirement already satisfied: tabulate in c:\\users\\home\\appdata\\local\\programs\\python\\python38\\lib\\site-packages (from sklearn-crfsuite->bnlp_toolkit) (0.8.9)\n",
      "Note: you may need to restart the kernel to use updated packages.\n"
     ]
    },
    {
     "name": "stderr",
     "output_type": "stream",
     "text": [
      "WARNING: You are using pip version 21.1.1; however, version 21.3.1 is available.\n",
      "You should consider upgrading via the 'c:\\users\\home\\appdata\\local\\programs\\python\\python38\\python.exe -m pip install --upgrade pip' command.\n"
     ]
    }
   ],
   "source": [
    "pip install bnlp_toolkit"
   ]
  },
  {
   "cell_type": "code",
   "execution_count": 4,
   "metadata": {
    "colab": {
     "base_uri": "https://localhost:8080/"
    },
    "id": "5O-fj5UzwzhQ",
    "outputId": "ec7d0ced-5342-4238-eb3c-4b4f4032add2"
   },
   "outputs": [
    {
     "name": "stderr",
     "output_type": "stream",
     "text": [
      "....."
     ]
    },
    {
     "name": "stdout",
     "output_type": "stream",
     "text": [
      "[('আমি', 'PPR'), ('ভাত', 'NC'), ('খাই', 'VM'), ('।', 'PU')]\n"
     ]
    },
    {
     "name": "stderr",
     "output_type": "stream",
     "text": [
      "\n",
      "----------------------------------------------------------------------\n",
      "Ran 5 tests in 1.546s\n",
      "\n",
      "OK\n"
     ]
    }
   ],
   "source": [
    "class TestBNLP(unittest.TestCase):\n",
    "\n",
    "    def test_BT(self):\n",
    "        bt = BasicTokenizer()\n",
    "        text = \"আমি ভাত খাই।\"\n",
    "        tokens = bt.tokenize(text)\n",
    "        self.assertEqual(tokens, [\"আমি\", \"ভাত\", \"খাই\", \"।\"])\n",
    "\n",
    "        text1 = \"\"\"\n",
    "        ভারত থেকে অনুপ্রবেশ ঠেকাতে বর্ডার গার্ড বাংলাদেশের (বিজিবি)\n",
    "         সঙ্গে রাজশাহীর চরখানপুর সীমান্ত পাহারা দিচ্ছেন গ্রামবাসী।\n",
    "         সীমান্তে নজরদারি জোরদার করার জন্য     চরখানপুর গ্রামের প্রায় আড়াই শ \n",
    "         বাসিন্দা রাত জেগে পালাক্রমে এই কাজ করছেন গত ২৮ নভেম্বর থেকে।\n",
    "        \"\"\"\n",
    "        tokens1 = bt.tokenize(text1)\n",
    "        output_1 = [\"ভারত\", \"থেকে\", \"অনুপ্রবেশ\", \"ঠেকাতে\", \"বর্ডার\", \"গার্ড\", \"বাংলাদেশের\", \"(\", \"বিজিবি\", \")\",\n",
    "         \"সঙ্গে\", \"রাজশাহীর\", \"চরখানপুর\", \"সীমান্ত\", \"পাহারা\", \"দিচ্ছেন\", \"গ্রামবাসী\", \"।\",\n",
    "         \"সীমান্তে\", \"নজরদারি\", \"জোরদার\", \"করার\", \"জন্য\", \"চরখানপুর\", \"গ্রামের\", \"প্রায়\", \"আড়াই\", \"শ\", \n",
    "         \"বাসিন্দা\", \"রাত\", \"জেগে\", \"পালাক্রমে\", \"এই\", \"কাজ\", \"করছেন\", \"গত\", \"২৮\", \"নভেম্বর\", \"থেকে\", \"।\"]\n",
    "        self.assertEqual(tokens1, output_1)\n",
    "\n",
    "    def test_NLTK(self):\n",
    "        text1 = \"\"\"\n",
    "        ভারত থেকে অনুপ্রবেশ ঠেকাতে বর্ডার গার্ড বাংলাদেশের (বিজিবি)\n",
    "         সঙ্গে রাজশাহীর চরখানপুর সীমান্ত পাহারা দিচ্ছেন গ্রামবাসী।\n",
    "         সীমান্তে নজরদারি জোরদার করার জন্য     চরখানপুর গ্রামের প্রায় আড়াই শ \n",
    "         বাসিন্দা রাত জেগে পালাক্রমে এই কাজ করছেন গত ২৮ নভেম্বর থেকে।\n",
    "        \"\"\"\n",
    "        text2 = \"আমি ভাত খাই। সে বাজারে যায়। কী বলছো এসব?\"\n",
    "\n",
    "        gt_word_tokens = [\"ভারত\", \"থেকে\", \"অনুপ্রবেশ\", \"ঠেকাতে\", \"বর্ডার\", \"গার্ড\", \"বাংলাদেশের\", \"(\", \"বিজিবি\", \")\",\n",
    "         \"সঙ্গে\", \"রাজশাহীর\", \"চরখানপুর\", \"সীমান্ত\", \"পাহারা\", \"দিচ্ছেন\", \"গ্রামবাসী\", \"।\",\n",
    "         \"সীমান্তে\", \"নজরদারি\", \"জোরদার\", \"করার\", \"জন্য\", \"চরখানপুর\", \"গ্রামের\", \"প্রায়\", \"আড়াই\", \"শ\", \n",
    "         \"বাসিন্দা\", \"রাত\", \"জেগে\", \"পালাক্রমে\", \"এই\", \"কাজ\", \"করছেন\", \"গত\", \"২৮\", \"নভেম্বর\", \"থেকে\", \"।\"]\n",
    "\n",
    "        gt_sen_tokens = [\"আমি ভাত খাই।\", \"সে বাজারে যায়।\", \"কী বলছো এসব?\"]\n",
    "        nl = NLTKTokenizer()\n",
    "        out_word_tokens = nl.word_tokenize(text1)\n",
    "        self.assertEqual(out_word_tokens, gt_word_tokens)\n",
    "\n",
    "        nl2 = NLTKTokenizer()\n",
    "        out_sen_tokens = nl2.sentence_tokenize(text2)\n",
    "        self.assertEqual(out_sen_tokens, gt_sen_tokens)\n",
    "    \n",
    "    def test_POS(self):\n",
    "        bn_pos = POS()\n",
    "        model_path = \"bn_pos.pkl\"\n",
    "        text = \"আমি ভাত খাই।\"\n",
    "        res = bn_pos.tag(model_path, text)\n",
    "        self.assertEqual(res, [('আমি', 'PPR'), ('ভাত', 'NC'), ('খাই', 'VM'), ('।', 'PU')])  \n",
    "        print(res)  \n",
    "\n",
    "    def test_NER(self):\n",
    "        bn_ner = NER()\n",
    "        model_path = \"bn_ner.pkl\"\n",
    "        text = \"সে ঢাকায় থাকে।\"\n",
    "        res = bn_ner.tag(model_path, text)\n",
    "        self.assertEqual(res, [('সে', 'O'), ('ঢাকায়', 'S-LOC'), ('থাকে', 'O')])\n",
    "        \n",
    "    def test_stopwords(self):\n",
    "        self.assertEqual(stopwords, ['অতএব', 'অথচ', 'অথবা', 'অনুযায়ী', 'অনেক', 'অনেকে', 'অনেকেই', 'অন্তত', 'অন্য', 'অবধি', 'অবশ্য', 'অর্থাত', 'আই', 'আগামী', 'আগে', 'আগেই', 'আছে', 'আজ', 'আদ্যভাগে', 'আপনার', 'আপনি', 'আবার', 'আমরা', 'আমাকে', 'আমাদের', 'আমার', 'আমি', 'আর', 'আরও', 'ই', 'ইত্যাদি', 'ইহা', 'উচিত', 'উত্তর', 'উনি', 'উপর', 'উপরে', 'এ', 'এঁদের', 'এঁরা', 'এই', 'একই', 'একটি', 'একবার', 'একে', 'এক্', 'এখন', 'এখনও', 'এখানে', 'এখানেই', 'এটা', 'এটাই', 'এটি', 'এত', 'এতটাই', 'এতে', 'এদের', 'এব', 'এবং', 'এবার', 'এমন', 'এমনকী', 'এমনি', 'এর', 'এরা', 'এল', 'এস', 'এসে', 'ঐ', 'ও', 'ওঁদের', 'ওঁর', 'ওঁরা', 'ওই', 'ওকে', 'ওখানে', 'ওদের', 'ওর', 'ওরা', 'কখনও', 'কত', 'কবে', 'কমনে', 'কয়েক', 'কয়েকটি', 'করছে', 'করছেন', 'করতে', 'করবে', 'করবেন', 'করলে', 'করলেন', 'করা', 'করাই', 'করায়', 'করার', 'করি', 'করিতে', 'করিয়া', 'করিয়ে', 'করে', 'করেই', 'করেছিলেন', 'করেছে', 'করেছেন', 'করেন', 'কাউকে', 'কাছ', 'কাছে', 'কাজ', 'কাজে', 'কারও', 'কারণ', 'কি', 'কিংবা', 'কিছু', 'কিছুই', 'কিন্তু', 'কী', 'কে', 'কেউ', 'কেউই', 'কেখা', 'কেন', 'কোটি', 'কোন', 'কোনও', 'কোনো', 'ক্ষেত্রে', 'কয়েক', 'খুব', 'গিয়ে', 'গিয়েছে', 'গিয়ে', 'গুলি', 'গেছে', 'গেল', 'গেলে', 'গোটা', 'চলে', 'চান', 'চায়', 'চার', 'চালু', 'চেয়ে', 'চেষ্টা', 'ছাড়া', 'ছাড়াও', 'ছিল', 'ছিলেন', 'জন', 'জনকে', 'জনের', 'জন্য', 'জন্যওজে', 'জানতে', 'জানা', 'জানানো', 'জানায়', 'জানিয়ে', 'জানিয়েছে', 'জে', 'জ্নজন', 'টি', 'ঠিক', 'তখন', 'তত', 'তথা', 'তবু', 'তবে', 'তা', 'তাঁকে', 'তাঁদের', 'তাঁর', 'তাঁরা', 'তাঁাহারা', 'তাই', 'তাও', 'তাকে', 'তাতে', 'তাদের', 'তার', 'তারপর', 'তারা', 'তারৈ', 'তাহলে', 'তাহা', 'তাহাতে', 'তাহার', 'তিনঐ', 'তিনি', 'তিনিও', 'তুমি', 'তুলে', 'তেমন', 'তো', 'তোমার', 'থাকবে', 'থাকবেন', 'থাকা', 'থাকায়', 'থাকে', 'থাকেন', 'থেকে', 'থেকেই', 'থেকেও', 'দিকে', 'দিতে', 'দিন', 'দিয়ে', 'দিয়েছে', 'দিয়েছেন', 'দিলেন', 'দু', 'দুই', 'দুটি', 'দুটো', 'দেওয়া', 'দেওয়ার', 'দেওয়া', 'দেখতে', 'দেখা', 'দেখে', 'দেন', 'দেয়', 'দ্বারা', 'ধরা', 'ধরে', 'ধামার', 'নতুন', 'নয়', 'না', 'নাই', 'নাকি', 'নাগাদ', 'নানা', 'নিজে', 'নিজেই', 'নিজেদের', 'নিজের', 'নিতে', 'নিয়ে', 'নিয়ে', 'নেই', 'নেওয়া', 'নেওয়ার', 'নেওয়া', 'নয়', 'পক্ষে', 'পর', 'পরে', 'পরেই', 'পরেও', 'পর্যন্ত', 'পাওয়া', 'পাচ', 'পারি', 'পারে', 'পারেন', 'পি', 'পেয়ে', 'পেয়্র্', 'প্রতি', 'প্রথম', 'প্রভৃতি', 'প্রযন্ত', 'প্রাথমিক', 'প্রায়', 'প্রায়', 'ফলে', 'ফিরে', 'ফের', 'বক্তব্য', 'বদলে', 'বন', 'বরং', 'বলতে', 'বলল', 'বললেন', 'বলা', 'বলে', 'বলেছেন', 'বলেন', 'বসে', 'বহু', 'বা', 'বাদে', 'বার', 'বি', 'বিনা', 'বিভিন্ন', 'বিশেষ', 'বিষয়টি', 'বেশ', 'বেশি', 'ব্যবহার', 'ব্যাপারে', 'ভাবে', 'ভাবেই', 'মতো', 'মতোই', 'মধ্যভাগে', 'মধ্যে', 'মধ্যেই', 'মধ্যেও', 'মনে', 'মাত্র', 'মাধ্যমে', 'মোট', 'মোটেই', 'যখন', 'যত', 'যতটা', 'যথেষ্ট', 'যদি', 'যদিও', 'যা', 'যাঁর', 'যাঁরা', 'যাওয়া', 'যাওয়ার', 'যাওয়া', 'যাকে', 'যাচ্ছে', 'যাতে', 'যাদের', 'যান', 'যাবে', 'যায়', 'যার', 'যারা', 'যিনি', 'যে', 'যেখানে', 'যেতে', 'যেন', 'যেমন', 'র', 'রকম', 'রয়েছে', 'রাখা', 'রেখে', 'লক্ষ', 'শুধু', 'শুরু', 'সঙ্গে', 'সঙ্গেও', 'সব', 'সবার', 'সমস্ত', 'সম্প্রতি', 'সহ', 'সহিত', 'সাধারণ', 'সামনে', 'সি', 'সুতরাং', 'সে', 'সেই', 'সেখান', 'সেখানে', 'সেটা', 'সেটাই', 'সেটাও', 'সেটি', 'স্পষ্ট', 'স্বয়ং', 'হইতে', 'হইবে', 'হইয়া', 'হওয়া', 'হওয়ায়', 'হওয়ার', 'হচ্ছে', 'হত', 'হতে', 'হতেই', 'হন', 'হবে', 'হবেন', 'হয়', 'হয়তো', 'হয়নি', 'হয়ে', 'হয়েই', 'হয়েছিল', 'হয়েছে', 'হয়েছেন', 'হল', 'হলে', 'হলেই', 'হলেও', 'হলো', 'হাজার', 'হিসাবে', 'হৈলে', 'হোক', 'হয়'])\n",
    "\n",
    "\n",
    "if __name__ == '__main__':\n",
    "    unittest.main(argv=['first-arg-is-ignored'], exit=False)\n"
   ]
  },
  {
   "cell_type": "code",
   "execution_count": null,
   "metadata": {
    "id": "25rr2p_8wnvf"
   },
   "outputs": [],
   "source": []
  }
 ],
 "metadata": {
  "colab": {
   "name": "bnlp_testing.ipynb",
   "provenance": []
  },
  "kernelspec": {
   "display_name": "Python 3 (ipykernel)",
   "language": "python",
   "name": "python3"
  },
  "language_info": {
   "codemirror_mode": {
    "name": "ipython",
    "version": 3
   },
   "file_extension": ".py",
   "mimetype": "text/x-python",
   "name": "python",
   "nbconvert_exporter": "python",
   "pygments_lexer": "ipython3",
   "version": "3.8.10"
  }
 },
 "nbformat": 4,
 "nbformat_minor": 1
}
