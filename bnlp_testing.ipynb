{
  "nbformat": 4,
  "nbformat_minor": 0,
  "metadata": {
    "colab": {
      "name": "bnlp_testing.ipynb",
      "provenance": []
    },
    "kernelspec": {
      "name": "python3",
      "display_name": "Python 3"
    },
    "language_info": {
      "name": "python"
    }
  },
  "cells": [
    {
      "cell_type": "code",
      "execution_count": null,
      "metadata": {
        "id": "TRM_Fz2dwKlw",
        "colab": {
          "base_uri": "https://localhost:8080/"
        },
        "outputId": "87aa33d6-f734-44d4-9a8b-c234c6965cc2"
      },
      "outputs": [
        {
          "output_type": "stream",
          "name": "stdout",
          "text": [
            "punkt not found. downloading...\n",
            "[nltk_data] Downloading package punkt to /root/nltk_data...\n",
            "[nltk_data]   Unzipping tokenizers/punkt.zip.\n"
          ]
        },
        {
          "output_type": "stream",
          "name": "stderr",
          "text": [
            "/usr/local/lib/python3.7/dist-packages/gensim/similarities/__init__.py:15: UserWarning: The gensim.similarities.levenshtein submodule is disabled, because the optional Levenshtein package <https://pypi.org/project/python-Levenshtein/> is unavailable. Install Levenhstein (e.g. `pip install python-Levenshtein`) to suppress this warning.\n",
            "  warnings.warn(msg)\n"
          ]
        }
      ],
      "source": [
        "import unittest\n",
        "from bnlp import POS\n",
        "from bnlp import NER\n",
        "from bnlp import NLTKTokenizer\n",
        "from bnlp import BasicTokenizer\n",
        "from bnlp import SentencepieceTokenizer\n",
        "from bnlp import BengaliWord2Vec\n",
        "from bnlp.corpus import stopwords"
      ]
    },
    {
      "cell_type": "code",
      "source": [
        "pip install bnlp_toolkit"
      ],
      "metadata": {
        "colab": {
          "base_uri": "https://localhost:8080/"
        },
        "id": "U2TbvC1uwjrX",
        "outputId": "66a18151-5b25-430f-feda-b9ef7a9bf326"
      },
      "execution_count": null,
      "outputs": [
        {
          "output_type": "stream",
          "name": "stdout",
          "text": [
            "Collecting bnlp_toolkit\n",
            "  Downloading bnlp_toolkit-3.1.2-py3-none-any.whl (17 kB)\n",
            "Requirement already satisfied: wasabi in /usr/local/lib/python3.7/dist-packages (from bnlp_toolkit) (0.8.2)\n",
            "Requirement already satisfied: scipy in /usr/local/lib/python3.7/dist-packages (from bnlp_toolkit) (1.4.1)\n",
            "Requirement already satisfied: numpy in /usr/local/lib/python3.7/dist-packages (from bnlp_toolkit) (1.19.5)\n",
            "Collecting gensim==4.0.1\n",
            "  Downloading gensim-4.0.1-cp37-cp37m-manylinux1_x86_64.whl (23.9 MB)\n",
            "\u001b[K     |████████████████████████████████| 23.9 MB 1.3 MB/s \n",
            "\u001b[?25hRequirement already satisfied: nltk in /usr/local/lib/python3.7/dist-packages (from bnlp_toolkit) (3.2.5)\n",
            "Collecting sentencepiece\n",
            "  Downloading sentencepiece-0.1.96-cp37-cp37m-manylinux_2_17_x86_64.manylinux2014_x86_64.whl (1.2 MB)\n",
            "\u001b[K     |████████████████████████████████| 1.2 MB 52.5 MB/s \n",
            "\u001b[?25hCollecting sklearn-crfsuite\n",
            "  Downloading sklearn_crfsuite-0.3.6-py2.py3-none-any.whl (12 kB)\n",
            "Requirement already satisfied: smart-open>=1.8.1 in /usr/local/lib/python3.7/dist-packages (from gensim==4.0.1->bnlp_toolkit) (5.2.1)\n",
            "Requirement already satisfied: six in /usr/local/lib/python3.7/dist-packages (from nltk->bnlp_toolkit) (1.15.0)\n",
            "Requirement already satisfied: tabulate in /usr/local/lib/python3.7/dist-packages (from sklearn-crfsuite->bnlp_toolkit) (0.8.9)\n",
            "Collecting python-crfsuite>=0.8.3\n",
            "  Downloading python_crfsuite-0.9.7-cp37-cp37m-manylinux1_x86_64.whl (743 kB)\n",
            "\u001b[K     |████████████████████████████████| 743 kB 54.5 MB/s \n",
            "\u001b[?25hRequirement already satisfied: tqdm>=2.0 in /usr/local/lib/python3.7/dist-packages (from sklearn-crfsuite->bnlp_toolkit) (4.62.3)\n",
            "Installing collected packages: python-crfsuite, sklearn-crfsuite, sentencepiece, gensim, bnlp-toolkit\n",
            "  Attempting uninstall: gensim\n",
            "    Found existing installation: gensim 3.6.0\n",
            "    Uninstalling gensim-3.6.0:\n",
            "      Successfully uninstalled gensim-3.6.0\n",
            "Successfully installed bnlp-toolkit-3.1.2 gensim-4.0.1 python-crfsuite-0.9.7 sentencepiece-0.1.96 sklearn-crfsuite-0.3.6\n"
          ]
        }
      ]
    },
    {
      "cell_type": "code",
      "source": [
        "class TestBNLP(unittest.TestCase):\n",
        "\n",
        "    def test_BT(self):\n",
        "        bt = BasicTokenizer()\n",
        "        text = \"আমি ভাত খাই।\"\n",
        "        tokens = bt.tokenize(text)\n",
        "        self.assertEqual(tokens, [\"আমি\", \"ভাত\", \"খাই\", \"।\"])\n",
        "\n",
        "        text1 = \"\"\"\n",
        "        ভারত থেকে অনুপ্রবেশ ঠেকাতে বর্ডার গার্ড বাংলাদেশের (বিজিবি)\n",
        "         সঙ্গে রাজশাহীর চরখানপুর সীমান্ত পাহারা দিচ্ছেন গ্রামবাসী।\n",
        "         সীমান্তে নজরদারি জোরদার করার জন্য     চরখানপুর গ্রামের প্রায় আড়াই শ \n",
        "         বাসিন্দা রাত জেগে পালাক্রমে এই কাজ করছেন গত ২৮ নভেম্বর থেকে।\n",
        "        \"\"\"\n",
        "        tokens1 = bt.tokenize(text1)\n",
        "        output_1 = [\"ভারত\", \"থেকে\", \"অনুপ্রবেশ\", \"ঠেকাতে\", \"বর্ডার\", \"গার্ড\", \"বাংলাদেশের\", \"(\", \"বিজিবি\", \")\",\n",
        "         \"সঙ্গে\", \"রাজশাহীর\", \"চরখানপুর\", \"সীমান্ত\", \"পাহারা\", \"দিচ্ছেন\", \"গ্রামবাসী\", \"।\",\n",
        "         \"সীমান্তে\", \"নজরদারি\", \"জোরদার\", \"করার\", \"জন্য\", \"চরখানপুর\", \"গ্রামের\", \"প্রায়\", \"আড়াই\", \"শ\", \n",
        "         \"বাসিন্দা\", \"রাত\", \"জেগে\", \"পালাক্রমে\", \"এই\", \"কাজ\", \"করছেন\", \"গত\", \"২৮\", \"নভেম্বর\", \"থেকে\", \"।\"]\n",
        "        self.assertEqual(tokens1, output_1)\n",
        "\n",
        "    def test_NLTK(self):\n",
        "        text1 = \"\"\"\n",
        "        ভারত থেকে অনুপ্রবেশ ঠেকাতে বর্ডার গার্ড বাংলাদেশের (বিজিবি)\n",
        "         সঙ্গে রাজশাহীর চরখানপুর সীমান্ত পাহারা দিচ্ছেন গ্রামবাসী।\n",
        "         সীমান্তে নজরদারি জোরদার করার জন্য     চরখানপুর গ্রামের প্রায় আড়াই শ \n",
        "         বাসিন্দা রাত জেগে পালাক্রমে এই কাজ করছেন গত ২৮ নভেম্বর থেকে।\n",
        "        \"\"\"\n",
        "        text2 = \"আমি ভাত খাই। সে বাজারে যায়। কী বলছো এসব?\"\n",
        "\n",
        "        gt_word_tokens = [\"ভারত\", \"থেকে\", \"অনুপ্রবেশ\", \"ঠেকাতে\", \"বর্ডার\", \"গার্ড\", \"বাংলাদেশের\", \"(\", \"বিজিবি\", \")\",\n",
        "         \"সঙ্গে\", \"রাজশাহীর\", \"চরখানপুর\", \"সীমান্ত\", \"পাহারা\", \"দিচ্ছেন\", \"গ্রামবাসী\", \"।\",\n",
        "         \"সীমান্তে\", \"নজরদারি\", \"জোরদার\", \"করার\", \"জন্য\", \"চরখানপুর\", \"গ্রামের\", \"প্রায়\", \"আড়াই\", \"শ\", \n",
        "         \"বাসিন্দা\", \"রাত\", \"জেগে\", \"পালাক্রমে\", \"এই\", \"কাজ\", \"করছেন\", \"গত\", \"২৮\", \"নভেম্বর\", \"থেকে\", \"।\"]\n",
        "\n",
        "        gt_sen_tokens = [\"আমি ভাত খাই।\", \"সে বাজারে যায়।\", \"কী বলছো এসব?\"]\n",
        "        nl = NLTKTokenizer()\n",
        "        out_word_tokens = nl.word_tokenize(text1)\n",
        "        self.assertEqual(out_word_tokens, gt_word_tokens)\n",
        "\n",
        "        nl2 = NLTKTokenizer()\n",
        "        out_sen_tokens = nl2.sentence_tokenize(text2)\n",
        "        self.assertEqual(out_sen_tokens, gt_sen_tokens)\n",
        "    \n",
        "    def test_POS(self):\n",
        "        bn_pos = POS()\n",
        "        model_path = \"bn_pos.pkl\"\n",
        "        text = \"আমি ভাত খাই।\"\n",
        "        res = bn_pos.tag(model_path, text)\n",
        "        self.assertEqual(res, [('আমি', 'PPR'), ('ভাত', 'NC'), ('খাই', 'VM'), ('।', 'PU')])  \n",
        "        print(res)  \n",
        "\n",
        "    def test_NER(self):\n",
        "        bn_ner = NER()\n",
        "        model_path = \"bn_ner.pkl\"\n",
        "        text = \"সে ঢাকায় থাকে।\"\n",
        "        res = bn_ner.tag(model_path, text)\n",
        "        self.assertEqual(res, [('সে', 'O'), ('ঢাকায়', 'S-LOC'), ('থাকে', 'O')])\n",
        "        \n",
        "    def test_stopwords(self):\n",
        "        self.assertEqual(stopwords, ['অতএব', 'অথচ', 'অথবা', 'অনুযায়ী', 'অনেক', 'অনেকে', 'অনেকেই', 'অন্তত', 'অন্য', 'অবধি', 'অবশ্য', 'অর্থাত', 'আই', 'আগামী', 'আগে', 'আগেই', 'আছে', 'আজ', 'আদ্যভাগে', 'আপনার', 'আপনি', 'আবার', 'আমরা', 'আমাকে', 'আমাদের', 'আমার', 'আমি', 'আর', 'আরও', 'ই', 'ইত্যাদি', 'ইহা', 'উচিত', 'উত্তর', 'উনি', 'উপর', 'উপরে', 'এ', 'এঁদের', 'এঁরা', 'এই', 'একই', 'একটি', 'একবার', 'একে', 'এক্', 'এখন', 'এখনও', 'এখানে', 'এখানেই', 'এটা', 'এটাই', 'এটি', 'এত', 'এতটাই', 'এতে', 'এদের', 'এব', 'এবং', 'এবার', 'এমন', 'এমনকী', 'এমনি', 'এর', 'এরা', 'এল', 'এস', 'এসে', 'ঐ', 'ও', 'ওঁদের', 'ওঁর', 'ওঁরা', 'ওই', 'ওকে', 'ওখানে', 'ওদের', 'ওর', 'ওরা', 'কখনও', 'কত', 'কবে', 'কমনে', 'কয়েক', 'কয়েকটি', 'করছে', 'করছেন', 'করতে', 'করবে', 'করবেন', 'করলে', 'করলেন', 'করা', 'করাই', 'করায়', 'করার', 'করি', 'করিতে', 'করিয়া', 'করিয়ে', 'করে', 'করেই', 'করেছিলেন', 'করেছে', 'করেছেন', 'করেন', 'কাউকে', 'কাছ', 'কাছে', 'কাজ', 'কাজে', 'কারও', 'কারণ', 'কি', 'কিংবা', 'কিছু', 'কিছুই', 'কিন্তু', 'কী', 'কে', 'কেউ', 'কেউই', 'কেখা', 'কেন', 'কোটি', 'কোন', 'কোনও', 'কোনো', 'ক্ষেত্রে', 'কয়েক', 'খুব', 'গিয়ে', 'গিয়েছে', 'গিয়ে', 'গুলি', 'গেছে', 'গেল', 'গেলে', 'গোটা', 'চলে', 'চান', 'চায়', 'চার', 'চালু', 'চেয়ে', 'চেষ্টা', 'ছাড়া', 'ছাড়াও', 'ছিল', 'ছিলেন', 'জন', 'জনকে', 'জনের', 'জন্য', 'জন্যওজে', 'জানতে', 'জানা', 'জানানো', 'জানায়', 'জানিয়ে', 'জানিয়েছে', 'জে', 'জ্নজন', 'টি', 'ঠিক', 'তখন', 'তত', 'তথা', 'তবু', 'তবে', 'তা', 'তাঁকে', 'তাঁদের', 'তাঁর', 'তাঁরা', 'তাঁাহারা', 'তাই', 'তাও', 'তাকে', 'তাতে', 'তাদের', 'তার', 'তারপর', 'তারা', 'তারৈ', 'তাহলে', 'তাহা', 'তাহাতে', 'তাহার', 'তিনঐ', 'তিনি', 'তিনিও', 'তুমি', 'তুলে', 'তেমন', 'তো', 'তোমার', 'থাকবে', 'থাকবেন', 'থাকা', 'থাকায়', 'থাকে', 'থাকেন', 'থেকে', 'থেকেই', 'থেকেও', 'দিকে', 'দিতে', 'দিন', 'দিয়ে', 'দিয়েছে', 'দিয়েছেন', 'দিলেন', 'দু', 'দুই', 'দুটি', 'দুটো', 'দেওয়া', 'দেওয়ার', 'দেওয়া', 'দেখতে', 'দেখা', 'দেখে', 'দেন', 'দেয়', 'দ্বারা', 'ধরা', 'ধরে', 'ধামার', 'নতুন', 'নয়', 'না', 'নাই', 'নাকি', 'নাগাদ', 'নানা', 'নিজে', 'নিজেই', 'নিজেদের', 'নিজের', 'নিতে', 'নিয়ে', 'নিয়ে', 'নেই', 'নেওয়া', 'নেওয়ার', 'নেওয়া', 'নয়', 'পক্ষে', 'পর', 'পরে', 'পরেই', 'পরেও', 'পর্যন্ত', 'পাওয়া', 'পাচ', 'পারি', 'পারে', 'পারেন', 'পি', 'পেয়ে', 'পেয়্র্', 'প্রতি', 'প্রথম', 'প্রভৃতি', 'প্রযন্ত', 'প্রাথমিক', 'প্রায়', 'প্রায়', 'ফলে', 'ফিরে', 'ফের', 'বক্তব্য', 'বদলে', 'বন', 'বরং', 'বলতে', 'বলল', 'বললেন', 'বলা', 'বলে', 'বলেছেন', 'বলেন', 'বসে', 'বহু', 'বা', 'বাদে', 'বার', 'বি', 'বিনা', 'বিভিন্ন', 'বিশেষ', 'বিষয়টি', 'বেশ', 'বেশি', 'ব্যবহার', 'ব্যাপারে', 'ভাবে', 'ভাবেই', 'মতো', 'মতোই', 'মধ্যভাগে', 'মধ্যে', 'মধ্যেই', 'মধ্যেও', 'মনে', 'মাত্র', 'মাধ্যমে', 'মোট', 'মোটেই', 'যখন', 'যত', 'যতটা', 'যথেষ্ট', 'যদি', 'যদিও', 'যা', 'যাঁর', 'যাঁরা', 'যাওয়া', 'যাওয়ার', 'যাওয়া', 'যাকে', 'যাচ্ছে', 'যাতে', 'যাদের', 'যান', 'যাবে', 'যায়', 'যার', 'যারা', 'যিনি', 'যে', 'যেখানে', 'যেতে', 'যেন', 'যেমন', 'র', 'রকম', 'রয়েছে', 'রাখা', 'রেখে', 'লক্ষ', 'শুধু', 'শুরু', 'সঙ্গে', 'সঙ্গেও', 'সব', 'সবার', 'সমস্ত', 'সম্প্রতি', 'সহ', 'সহিত', 'সাধারণ', 'সামনে', 'সি', 'সুতরাং', 'সে', 'সেই', 'সেখান', 'সেখানে', 'সেটা', 'সেটাই', 'সেটাও', 'সেটি', 'স্পষ্ট', 'স্বয়ং', 'হইতে', 'হইবে', 'হইয়া', 'হওয়া', 'হওয়ায়', 'হওয়ার', 'হচ্ছে', 'হত', 'হতে', 'হতেই', 'হন', 'হবে', 'হবেন', 'হয়', 'হয়তো', 'হয়নি', 'হয়ে', 'হয়েই', 'হয়েছিল', 'হয়েছে', 'হয়েছেন', 'হল', 'হলে', 'হলেই', 'হলেও', 'হলো', 'হাজার', 'হিসাবে', 'হৈলে', 'হোক', 'হয়'])\n",
        "\n",
        "\n",
        "if __name__ == '__main__':\n",
        "    unittest.main(argv=['first-arg-is-ignored'], exit=False)\n"
      ],
      "metadata": {
        "colab": {
          "base_uri": "https://localhost:8080/"
        },
        "id": "5O-fj5UzwzhQ",
        "outputId": "ec7d0ced-5342-4238-eb3c-4b4f4032add2"
      },
      "execution_count": null,
      "outputs": [
        {
          "output_type": "stream",
          "name": "stderr",
          "text": [
            ".E.E.\n",
            "======================================================================\n",
            "ERROR: test_NER (__main__.TestBNLP)\n",
            "----------------------------------------------------------------------\n",
            "Traceback (most recent call last):\n",
            "  File \"<ipython-input-3-17c199f49535>\", line 57, in test_NER\n",
            "    res = bn_ner.tag(model_path, text)\n",
            "  File \"/usr/local/lib/python3.7/dist-packages/bnlp/ner.py\", line 53, in tag\n",
            "    with open(model_path, 'rb') as pkl_model:\n",
            "FileNotFoundError: [Errno 2] No such file or directory: 'bn_ner.pkl'\n",
            "\n",
            "======================================================================\n",
            "ERROR: test_POS (__main__.TestBNLP)\n",
            "----------------------------------------------------------------------\n",
            "Traceback (most recent call last):\n",
            "  File \"<ipython-input-3-17c199f49535>\", line 49, in test_POS\n",
            "    res = bn_pos.tag(model_path, text)\n",
            "  File \"/usr/local/lib/python3.7/dist-packages/bnlp/pos.py\", line 48, in tag\n",
            "    with open(model_path, 'rb') as pkl_model:\n",
            "FileNotFoundError: [Errno 2] No such file or directory: 'bn_pos.pkl'\n",
            "\n",
            "----------------------------------------------------------------------\n",
            "Ran 5 tests in 0.022s\n",
            "\n",
            "FAILED (errors=2)\n"
          ]
        }
      ]
    },
    {
      "cell_type": "code",
      "source": [
        ""
      ],
      "metadata": {
        "id": "25rr2p_8wnvf"
      },
      "execution_count": null,
      "outputs": []
    }
  ]
}